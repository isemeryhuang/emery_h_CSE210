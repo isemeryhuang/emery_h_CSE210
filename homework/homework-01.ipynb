{
  "cells": [
    {
      "cell_type": "markdown",
      "metadata": {
        "id": "_Mr3AvSgSswx"
      },
      "source": [
        "# Homework 1 - Propositions & Logic"
      ]
    },
    {
      "cell_type": "markdown",
      "metadata": {
        "id": "1alNm6TcbSzQ"
      },
      "source": [
        "**Instructions:** Complete the exercises below.\n",
        "\n",
        "1. Make a copy of this Colab Notebook using **`File -> Save a copy in Drive`**.\n",
        "\n",
        "2. By default, your copy of the notebook will be saved in your [Google Drive](https://drive.google.com/drive/my-drive) under the folder **`Colab Notebooks`**. You will need to share this folder with your instructor and any TAs so they will be able to view your homework.\n",
        "\n",
        "    **Follow the instructions [in this video](https://video.byui.edu/media/t/1_skwfqkzs) to share your `Colab Notebooks` folder with the instructor and TAs and to finish setting up Colab to properly save your work. If done properly, you only need to do this once and it will be setup properly for the rest of the semester.**\n",
        "\n",
        "3. Click the settings icon in the top-right corner of the Colab window. Make sure the box `New notebooks use private outputs (omit outputs when saving)` is NOT checked. This will make sure any Python output is saved with your notebook.\n",
        "\n",
        "    ![alt text](https://github.com/byui-cse/cse280-course-notebooks/blob/main/homework/settings.png?raw=1)\n",
        "    \n",
        "4. Now proceed to answer the exercise questions below. Type your answers to each question by double-clicking on **`Your Answer`** and typing your response.\n",
        "\n",
        "    Note that you can use any combination of plain text, Markdown, or LaTeX. As a last resort, you can simply take a picture of your handwritten work and upload it to an answer cell below.\n",
        "\n",
        "5. To submit your work, turn in the URL for your Colab notebook by clicking \"Share\" then \"Copy Link\"."
      ]
    },
    {
      "cell_type": "markdown",
      "metadata": {
        "id": "bEsUKV6DbbhB"
      },
      "source": [
        "**Note**:\n",
        "Sample solutions are provided in order to help you **learn**. The purpose of these exercises is not to simply turn in the answers, but to take the time and effort to learn and understand the material. You are encouraged to work the problems first, then when you are satisfied that you have the correct answer, look at the sample solution and compare it with yours."
      ]
    },
    {
      "cell_type": "markdown",
      "metadata": {
        "id": "-Xpx05lIbSzR"
      },
      "source": [
        "### Exercise 1.1"
      ]
    },
    {
      "cell_type": "markdown",
      "metadata": {
        "id": "2pcAJcFCYS42"
      },
      "source": [
        "propositions\n",
        "1. Dogs have 4 legs.\n",
        "2. US have 50 states.\n",
        "3. Tires are black.\n",
        "\n",
        "non-propositions\n",
        "1. Have a great week.\n",
        "2. How are you?\n",
        "3. Is this your book?"
      ]
    },
    {
      "cell_type": "markdown",
      "metadata": {
        "id": "_PyIdsbpbSzR"
      },
      "source": [
        "#### Your Answer:\n",
        "\n",
        "(Double-click here to open the cell and add your answer)"
      ]
    },
    {
      "cell_type": "markdown",
      "metadata": {
        "id": "cka7gs7GBS72"
      },
      "source": [
        "### Exercise 1.2"
      ]
    },
    {
      "cell_type": "markdown",
      "metadata": {
        "id": "mbd0-wcaBoAi"
      },
      "source": [
        "Let $p$ be the proposition \"I studied.\" and $q$ be the proposition \"I got an A on the test.\" Express the following symbolic propositions in English:\n",
        "1. $p \\land q$.\n",
        "2. $\\lnot p \\land q$.\n",
        "3. $p \\land \\lnot q$.\n",
        "4. $\\lnot p \\land \\lnot q$.\n",
        "5. $p \\lor q$.\n",
        "6. $\\lnot p \\lor q$.\n",
        "7. $p \\lor \\lnot q$.\n",
        "8. $\\lnot p \\lor \\lnot q$.\n"
      ]
    },
    {
      "cell_type": "markdown",
      "metadata": {
        "id": "qSQ0HvMVbSzR"
      },
      "source": [
        "#### Your Answer:\n",
        "\n",
        "1. I studied and I got an A on the test.\n",
        "2. I did not studied and I got an A on the test.\n",
        "3. I studied and I did not got an A on the test.\n",
        "4. I did not studied and I did not got an A on the test.\n",
        "5. I studied and I got an A on the test.\n",
        "6. I studied and I got an A on the test.\n",
        "7. I studied and I got an A on the test.\n",
        "8. I studied and I got an A on the test."
      ]
    },
    {
      "cell_type": "markdown",
      "metadata": {
        "id": "RA3nTBfMYYUm"
      },
      "source": [
        "### Exercise 1.3"
      ]
    },
    {
      "cell_type": "markdown",
      "metadata": {
        "id": "B5CMZM5MYYUn"
      },
      "source": [
        "Construct truth tables for the following propositions:\n",
        "1. $p \\land q$\n",
        "2. $p \\lor q$\n",
        "3. $\\lnot p \\lor q$\n",
        "4. $p \\land \\lnot q$\n",
        "\n",
        "This is a chance to practice using either LaTeX or Markdown to construct tables. Just \"Google\" it!\n",
        "\n",
        "Or you can draw them by hand, then take a picture. The point is to practice creating them. You may create a single large truth table or four smaller truth tables.\n",
        "\n",
        "(If you take a picture, you can add it to Colab by opening a new **text** cell, then click on the \"Insert Image\" button)"
      ]
    },
    {
      "cell_type": "markdown",
      "metadata": {
        "id": "WaNDz3a4bSzS"
      },
      "source": [
        "Here is an example of how to create a table using Markdown (double-click on cell to see source):\n",
        "\n",
        "| $p$ | $q$ | $$p \\land q$$ |\n",
        "|---|---|:-:|\n",
        "|T|T|T|\n",
        "|T|F|F|\n",
        "|F|T|F|\n",
        "|F|F|F|\n",
        "\n",
        "The `---` and `:-:` parts of the table control the column alignment. `:-:` tells the column to be centered.\n",
        "\n",
        "The `$` symbols tell the notebook to enter \"LaTeX\" mode."
      ]
    },
    {
      "cell_type": "markdown",
      "metadata": {
        "id": "JP49tp9_bSzS"
      },
      "source": [
        "And this is how to create a table using LaTeX (double-click to see source):\n",
        "\n",
        "$\n",
        "\\begin{array}{|r|r|c|}\n",
        "\\hline\n",
        "p & q & p \\land q\\\\\n",
        "\\hline\n",
        "T&T&T\\\\\n",
        "T&F&F\\\\\n",
        "F&T&F\\\\\n",
        "F&F&F\\\\\n",
        "\\hline\n",
        "\\end{array}\n",
        "$\n",
        "\n",
        "The `|r|r|c|` part controls each column's alignment. In this case: right, right, center.\n",
        "\n",
        "The `$` sign at the beginning and end tells the notebook to process everything between the `$` signs as LaTeX."
      ]
    },
    {
      "cell_type": "markdown",
      "metadata": {
        "id": "1t7dxUSzbSzS"
      },
      "source": [
        "#### Your Answer:"
      ]
    },
    {
      "cell_type": "markdown",
      "metadata": {
        "id": "Dall-82ObSzS"
      },
      "source": [
        "### Exercise 1.4"
      ]
    },
    {
      "cell_type": "markdown",
      "metadata": {
        "id": "Eb3v5FMrbSzS"
      },
      "source": [
        "Python has built-in logical operators `or`, `and`, and `not`. Explore these logical operations in Python by using Python to generate a truth table for the following propositions:\n",
        "1. $p \\land q$\n",
        "2. $p \\lor q$\n",
        "3. $\\lnot p \\lor q$\n",
        "4. $p \\land \\lnot q$\n",
        "\n",
        "Don't worry about using Markdown or LaTeX to generate nicely formatted tables as in the previous exercise. Instead, use Python code to generate output that looks like the following:\n",
        "\n",
        "```\n",
        "p       q       p and q   p or q    not p or q   p and not q\n",
        "True    True    True      True      True         False\n",
        "True    False   False     True      False        True\n",
        "False   True    False     True      True         False\n",
        "False   False   False     False     True         False\n",
        "```\n",
        "\n",
        "You may choose to print either \"True\" and \"False\" or \"1\" and \"0\".\n",
        "\n",
        "Compare your Python result with the tables you created in Exercise 1.3."
      ]
    },
    {
      "cell_type": "markdown",
      "metadata": {
        "id": "nPBeDZvobSzS"
      },
      "source": [
        "#### Your Answer:"
      ]
    },
    {
      "cell_type": "markdown",
      "metadata": {
        "id": "0VKsOtmAbSzS"
      },
      "source": [
        "### Exercise 1.5"
      ]
    },
    {
      "cell_type": "markdown",
      "metadata": {
        "id": "t_guQH26bSzS"
      },
      "source": [
        "Write a Python function called `xor` to implement the **exclusive or** operation. You may make use of the built-in `and`, `or`, and `not` operators.\n",
        "\n",
        "Your `xor` function should take two arguments, $p$ and $q$, and return the result of $p \\oplus q$. (Use the code block below and replace the part that says \"`# Your code here`\")"
      ]
    },
    {
      "cell_type": "markdown",
      "metadata": {
        "id": "OMFm6LmWbSzS"
      },
      "source": [
        "#### Your Answer:"
      ]
    },
    {
      "cell_type": "code",
      "execution_count": null,
      "metadata": {
        "id": "WzvSgGFabSzS"
      },
      "outputs": [],
      "source": [
        "# Create an xor function\n",
        "def xor(p, q):\n",
        "    # Your code here\n",
        "    pass"
      ]
    },
    {
      "cell_type": "markdown",
      "metadata": {
        "id": "m419-Pt2bSzT"
      },
      "source": [
        "After creating your `xor` function, run the following code block, which should result in a correct truth table for **exclusive or**."
      ]
    },
    {
      "cell_type": "code",
      "execution_count": null,
      "metadata": {
        "id": "gZXYB9lrbSzT"
      },
      "outputs": [],
      "source": [
        "# Print a truth table for p xor q\n",
        "print(f'p       q       p xor q')\n",
        "for (p,q) in [(p,q) for p in [True, False] for q in [True, False]]:\n",
        "    print(f'{p!s:<8}{q!s:<8}{xor(p,q)!s:<8}')\n",
        "\n",
        "\n",
        "# Should result in output like this:\n",
        "# p       q       p xor q\n",
        "# True    True    False\n",
        "# True    False   True\n",
        "# False   True    True\n",
        "# False   False   False"
      ]
    },
    {
      "cell_type": "markdown",
      "metadata": {
        "id": "DBhW6XShbSzT"
      },
      "source": [
        "### Exercise 1.6"
      ]
    },
    {
      "cell_type": "markdown",
      "metadata": {
        "id": "5m9NkaYebSzT"
      },
      "source": [
        "Let $p$ be the proposition &ldquo;I studied.&rdquo; and let $q$ be the proposition &ldquo;I got an A on the test.&rdquo;\n",
        "\n",
        "Express the following propositions as English sentences.\n",
        "\n",
        "1. $p \\rightarrow q$\n",
        "2. $\\lnot p \\lor \\lnot q$\n",
        "3. $\\lnot p \\rightarrow (p \\lor q)$\n",
        "4. $\\lnot p \\rightarrow \\lnot q$"
      ]
    },
    {
      "cell_type": "markdown",
      "metadata": {
        "id": "L4kjcy52bSzT"
      },
      "source": [
        "#### Your Answer:"
      ]
    },
    {
      "cell_type": "markdown",
      "metadata": {
        "id": "7yKwu8mtbSzT"
      },
      "source": [
        "### Exercise 1.7"
      ]
    },
    {
      "cell_type": "markdown",
      "metadata": {
        "id": "HW4oFtFYbSzT"
      },
      "source": [
        "True or false? Briefly explain your reasoning for each.\n",
        "\n",
        "1. If 2 + 2 = 4, then pigs can fly.\n",
        "\n",
        "2. If 2 + 7 = 5, then Elvis is alive.\n",
        "\n",
        "3. If pigs can fly, then dogs can't fly.\n",
        "\n",
        "4. If dogs have four legs, then ostriches have two legs.\n",
        "\n",
        "5. 2 + 1 = 3 if and only if 1 + 2 = 3.\n",
        "\n",
        "6. 1 + 2 = 3 if and only if 3 + 1 = 6.\n",
        "\n",
        "7. 1 + 3 = 2 if and only if the earth is flat.\n",
        "\n",
        "8. 1 < 2 if and only if 2 < 3."
      ]
    },
    {
      "cell_type": "markdown",
      "metadata": {
        "id": "s5YASKh5bSzT"
      },
      "source": [
        "#### Your Answer:\n"
      ]
    },
    {
      "cell_type": "markdown",
      "metadata": {
        "id": "zdl6-tTGbSzT"
      },
      "source": [
        "### Exercise 1.8"
      ]
    },
    {
      "cell_type": "markdown",
      "metadata": {
        "id": "8JR81caYbSzT"
      },
      "source": [
        "Let $p$ be the proposition &ldquo;You applied for college admission.&rdquo; and let $q$ be the proposition &ldquo;You were accepted.&rdquo;\n",
        "\n",
        "Express the following English sentences as symbolic compound propositions using the logical **conditional** (or biconditional) connective.\n",
        "\n",
        "1. Your applying for college admission is necessary for your being accepted.\n",
        "2. Your being accepted is a sufficient condition for your applying for college admission.\n",
        "3. Your applying for college admission is necessary and sufficient for your being accepted."
      ]
    },
    {
      "cell_type": "markdown",
      "metadata": {
        "id": "LZPM695SbSzT"
      },
      "source": [
        "#### Your Answer:"
      ]
    },
    {
      "cell_type": "markdown",
      "metadata": {
        "id": "CgNoLu5MbSzT"
      },
      "source": [
        "### Exercise 1.9a"
      ]
    },
    {
      "cell_type": "markdown",
      "metadata": {
        "id": "yvIRbjFybSzT"
      },
      "source": [
        "Write Python functions to implement the **conditional** operator \"$\\rightarrow$\" (implies) and the **biconditional** operator \"$\\longleftrightarrow$\" (if and only if, frequently written as \"iff\").\n",
        "\n",
        "In other words, complete these functions:"
      ]
    },
    {
      "cell_type": "code",
      "execution_count": null,
      "metadata": {
        "id": "4gYBHP-3bSzT"
      },
      "outputs": [],
      "source": [
        "def implies(p, q):\n",
        "    \"\"\"Implements the conditional operator ->\n",
        "    \"\"\"\n",
        "    pass # replace with your code\n",
        "\n",
        "\n",
        "def iff(p, q):\n",
        "    \"\"\"Implements the biconditional operator <-->\n",
        "    \"\"\"\n",
        "    pass # replace with your code"
      ]
    },
    {
      "cell_type": "markdown",
      "metadata": {
        "id": "TtxfoT8TbSzT"
      },
      "source": [
        "### Exercise 1.9b"
      ]
    },
    {
      "cell_type": "markdown",
      "metadata": {
        "id": "UNBy-tJPbSzT"
      },
      "source": [
        "Use Python to print a truth table for $p \\rightarrow q$ and $p \\longleftrightarrow q$ using your `implies` and `iff` functions to verify they are working correctly. Compare your result with this truth table:\n",
        "\n",
        "|p|q|p->q|p<->q\n",
        "|--|--|--|--|\n",
        "|T|T|T|T|\n",
        "|T|F|F|F|\n",
        "|F|T|T|F|\n",
        "|F|F|T|T|\n"
      ]
    },
    {
      "cell_type": "markdown",
      "metadata": {
        "id": "slJzCVgVbSzT"
      },
      "source": [
        "#### Your Answer:"
      ]
    },
    {
      "cell_type": "markdown",
      "metadata": {
        "id": "NT2gGEqubSzT"
      },
      "source": [
        "### Exercise 1.10"
      ]
    },
    {
      "cell_type": "markdown",
      "metadata": {
        "id": "DIkkGDKWbSzU"
      },
      "source": [
        "Give the inverse, contrapositive, and converse for each of the following statements:\n",
        "\n",
        "1. If Bob got an A on the final exam, then Bob passed the class.\n",
        "\n",
        "2. If you complete your homework, then you will pass the exam.\n",
        "\n",
        "3. If you do not study, then you will not pass the exam.\n",
        "\n",
        "4. If you are 46\" tall, then you can ride the rollercoaster."
      ]
    },
    {
      "cell_type": "markdown",
      "metadata": {
        "id": "2syuzGOCbSzU"
      },
      "source": [
        "#### Your Answer:"
      ]
    },
    {
      "cell_type": "markdown",
      "metadata": {
        "id": "HCjgnJwTbbhN"
      },
      "source": [
        "----------------------\n",
        "## Sample Solutions\n",
        "\n",
        "**Note**:\n",
        "Sample solutions are provided in order to help you **learn**. The purpose of these exercises is not to simply turn in the answers, but to take the time and effort to learn and understand the material. You are encouraged to work the problems first, then when you are satisfied that you have the correct answer, look at the sample solution and compare it with yours."
      ]
    },
    {
      "cell_type": "markdown",
      "metadata": {
        "id": "DqrbMxL5bSzU"
      },
      "source": [
        "### Sample Solution 1.1"
      ]
    },
    {
      "cell_type": "markdown",
      "metadata": {
        "id": "e-auOKBGbSzU"
      },
      "source": [
        "Three propositions:\n",
        "\n",
        "1. The sky is blue.\n",
        "2. It is raining.\n",
        "3. Snow is white.\n",
        "\n",
        "Three non-propositions:\n",
        "\n",
        "1. Do you like pizza?\n",
        "2. Pick up your toys.\n",
        "3. Go to the store."
      ]
    },
    {
      "cell_type": "markdown",
      "metadata": {
        "id": "RgttoC4UbSzU"
      },
      "source": [
        "### Sample Solution 1.2"
      ]
    },
    {
      "cell_type": "markdown",
      "metadata": {
        "id": "Gk_-w-QFbSzU"
      },
      "source": [
        "1. I studied and I got an A on the test.\n",
        "2. I did not study and I got an A on the test.\n",
        "3. I studied but I did not get an A on the test. (Logically speaking, \"but\" means \"and\" --- and it sounds better here.)\n",
        "4. I did not study and I did not get an A on the test.\n",
        "5. I studied or I got an A on the test.\n",
        "6. I did not study or I got an A on the test.\n",
        "7. I studied or I did not get an A on the test.\n",
        "8. I did not study or I did not get an A on the test."
      ]
    },
    {
      "cell_type": "markdown",
      "metadata": {
        "id": "Vr4J5EgtbSzU"
      },
      "source": [
        "### Sample Solution 1.3"
      ]
    },
    {
      "cell_type": "markdown",
      "metadata": {
        "id": "LQ4D2R_ZbSzU"
      },
      "source": [
        "1. $p \\land q$\n",
        "2. $p \\lor q$\n",
        "3. $\\lnot p \\lor q$\n",
        "4. $p \\land \\lnot q$\n",
        "\n",
        "Using Markdown:\n",
        "\n",
        "All in one table:\n",
        "\n",
        "|$p$|$q$|$$p \\land q$$|$$p \\lor q$$|$$\\lnot p \\lor q$$|$$p \\land \\lnot q$$|\n",
        "|-|:-:|:-:|:-:|:-:|:-:|\n",
        "|T|T|T|T|T|F|\n",
        "|T|F|F|T|F|T|\n",
        "|F|T|F|T|T|F|\n",
        "|F|F|F|F|T|F|\n",
        "\n",
        "\n",
        "Using LaTeX:\n",
        "\n",
        "1. $\\begin{array}{|r|c|c|}\n",
        "\\hline\n",
        "p & q & p \\land p \\\\\n",
        "\\hline \\hline\n",
        "T & T & T \\\\\n",
        "T & F & F \\\\\n",
        "F & T & F \\\\\n",
        "F & F & F \\\\\n",
        "\\hline\n",
        "\\end{array}\n",
        "$\n",
        "\n",
        "2. $\\begin{array}{|r|c|c|}\n",
        "\\hline\n",
        "p & q & p \\lor p\\\\\n",
        "\\hline \\hline\n",
        "T&T&T \\\\\n",
        "T&F&T \\\\\n",
        "F&T&T \\\\\n",
        "F&F&F \\\\\n",
        "\\hline\n",
        "\\end{array}$\n",
        "\n",
        "3. $\\begin{array}{|r|r|c|}\n",
        "\\hline\n",
        "p & q & \\lnot p \\lor q\\\\\n",
        "\\hline \\hline\n",
        "T&T&T\\\\\n",
        "T&F&F\\\\\n",
        "F&T&T\\\\\n",
        "F&F&T\\\\\n",
        "\\hline\n",
        "\\end{array}$\n",
        "\n",
        "4. $\\begin{array}{|r|r|c|}\n",
        "\\hline\n",
        "p & q & p \\land \\lnot q\\\\\n",
        "\\hline \\hline\n",
        "T&T&F\\\\\n",
        "T&F&T\\\\\n",
        "F&T&F\\\\\n",
        "F&F&F\\\\\n",
        "\\hline\n",
        "\\end{array}$"
      ]
    },
    {
      "cell_type": "markdown",
      "metadata": {
        "id": "IKRBr89EbSzU"
      },
      "source": [
        "### Sample Solution 1.4:"
      ]
    },
    {
      "cell_type": "markdown",
      "metadata": {
        "id": "oD-qX99EbSzU"
      },
      "source": [
        "1. $p \\land q$\n",
        "2. $p \\lor q$\n",
        "3. $\\lnot p \\lor q$\n",
        "4. $p \\land \\lnot q$"
      ]
    },
    {
      "cell_type": "code",
      "execution_count": null,
      "metadata": {
        "id": "V4On_REbbSzU",
        "outputId": "f5bb5923-4f0f-402b-9cd9-823780830a47"
      },
      "outputs": [
        {
          "name": "stdout",
          "output_type": "stream",
          "text": [
            "p       q       p and q   p or q    not p or q   p and not q\n",
            "True    True    True      True      True         False\n",
            "True    False   False     True      False        True\n",
            "False   True    False     True      True         False\n",
            "False   False   False     False     True         False\n"
          ]
        }
      ],
      "source": [
        "print(f'p       q       p and q   p or q    not p or q   p and not q')\n",
        "values = [(p,q) for p in [True, False] for q in [True, False]]\n",
        "for (p,q) in values:\n",
        "    # Note: !s forces printing \"True\" instead of \"1\" and \"False\" instead of \"0\" when\n",
        "    # using string formatting to align the output\n",
        "    print(f'{p!s:<8}{q!s:<8}{p and q!s:<10}{p or q!s:<10}{not p or q!s:<13}{p and not q!s}')"
      ]
    },
    {
      "cell_type": "markdown",
      "metadata": {
        "id": "JhuoK_uYbSzV"
      },
      "source": [
        "### Sample Solution 1.5"
      ]
    },
    {
      "cell_type": "code",
      "execution_count": null,
      "metadata": {
        "id": "KlXG7-PhbSzV"
      },
      "outputs": [],
      "source": [
        "def xor(p, q):\n",
        "    return (p and not q) or (q and not p)\n",
        "    # return p != q # another way\n",
        "    # return not (p == q)  # another way\n",
        "    #return not p if q else p   # another way\n",
        "\n",
        "# Another way, using a lambda function\n",
        "xor = lambda p, q: p != q"
      ]
    },
    {
      "cell_type": "markdown",
      "metadata": {
        "id": "wub69k-abSzV"
      },
      "source": [
        "### Sample Solution 1.6"
      ]
    },
    {
      "cell_type": "markdown",
      "metadata": {
        "id": "2lT43iPPbSzV"
      },
      "source": [
        "1. If I studied then I got an A on the test.\n",
        "2. I did not study or I did not get an A on the test.\n",
        "3. If I didn't study then I studied or I got an A on the test.\n",
        "4. If I did not study then I did not get an A on the test."
      ]
    },
    {
      "cell_type": "markdown",
      "metadata": {
        "id": "kLwp2P3ObSzV"
      },
      "source": [
        "### Sample Solution 1.7"
      ]
    },
    {
      "cell_type": "markdown",
      "metadata": {
        "id": "hhdMiW4CbSzV"
      },
      "source": [
        "1. This is false, because \"2 + 2 = 4\" is true but\n",
        "   \"pigs can fly\" is false.\n",
        "2. Both parts are false, so the conditional is true.\n",
        "3. This is true, because pigs can't fly, and neither can dogs,\n",
        "   so we have false $\\rightarrow$ true.\n",
        "4. We have true $\\rightarrow$ true, so this is true.\n",
        "5. As we have true $\\leftrightarrow$ true, this is true.\n",
        "6. As we have true $\\leftrightarrow$ false, this is false.\n",
        "7. As we have false $\\leftrightarrow$ false, this is true.\n",
        "8. Again we have true $\\rightarrow$ true, so true."
      ]
    },
    {
      "cell_type": "markdown",
      "metadata": {
        "id": "3O9B7s4YbSzV"
      },
      "source": [
        "### Sample Solution 1.8"
      ]
    },
    {
      "cell_type": "markdown",
      "metadata": {
        "id": "Zfpc0zTWbSzV"
      },
      "source": [
        "1. $p \\leftarrow q$ (or $q \\rightarrow p$)\n",
        "2. $q \\rightarrow p$\n",
        "3. $p \\leftrightarrow q$"
      ]
    },
    {
      "cell_type": "markdown",
      "metadata": {
        "id": "Upv_7Xy1bSzV"
      },
      "source": [
        "### Sample Solution 1.9a"
      ]
    },
    {
      "cell_type": "code",
      "execution_count": null,
      "metadata": {
        "id": "eA-Xbv6fbSzV"
      },
      "outputs": [],
      "source": [
        "def implies(p, q):\n",
        "    return not p or q\n",
        "\n",
        "# Another way:\n",
        "def implies(p, q):\n",
        "    return q if p else True\n",
        "\n",
        "# Another way:\n",
        "def implies(p, q):\n",
        "    if p:\n",
        "        return q\n",
        "    else:\n",
        "        return True\n",
        "\n",
        "def iff(p, q):\n",
        "    return implies(p, q) and implies(q, p)"
      ]
    },
    {
      "cell_type": "markdown",
      "metadata": {
        "id": "vbur7r32bSzV"
      },
      "source": [
        "### Sample Solution 1.9b"
      ]
    },
    {
      "cell_type": "code",
      "execution_count": null,
      "metadata": {
        "id": "gqy3TT3nbSzV",
        "outputId": "f61890a5-d1e7-4dbb-879e-894c0dd21c58"
      },
      "outputs": [
        {
          "name": "stdout",
          "output_type": "stream",
          "text": [
            "p       q       p ⟶ q\n",
            "True    True    True    \n",
            "True    False   False   \n",
            "False   True    True    \n",
            "False   False   True    \n",
            "\n",
            "p       q       p ⟷ q\n",
            "True    True    True    \n",
            "True    False   False   \n",
            "False   True    False   \n",
            "False   False   True    \n",
            "\n"
          ]
        }
      ],
      "source": [
        "# Note: This is one way to do it. You might have done it differently.\n",
        "\n",
        "# Define the symbols we want to display for the different operators\n",
        "operators = {\n",
        "    'implies': '⟶',\n",
        "    'iff': '⟷',\n",
        "}\n",
        "\n",
        "# Print a truth table for a given operation\n",
        "def print_truth_table(operation):\n",
        "    print(f\"p       q       p {operators[operation.__name__]} q\")\n",
        "    for p in [True, False]:\n",
        "        for q in [True, False]:\n",
        "            print(f'{p!s:<8}{q!s:<8}{operation(p,q)!s:<8}')\n",
        "    print()\n",
        "\n",
        "print_truth_table(implies)\n",
        "print_truth_table(iff)"
      ]
    },
    {
      "cell_type": "markdown",
      "metadata": {
        "id": "T_Gni4uebSzW"
      },
      "source": [
        "### Sample Solution 1.10"
      ]
    },
    {
      "cell_type": "markdown",
      "metadata": {
        "id": "8wWezTNObSzW"
      },
      "source": [
        "1. If Bob got an A on the final exam, then Bob passed the class.\n",
        "\n",
        "    Inverse: If Bob did not get an A on the final exam, then Bob did not pass the class.\\\n",
        "    Converse: If Bob passed the class, then Bob got an A on the final exam. \\\n",
        "    Contrapositive: If Bob did not pass the class, then Bob did not get an A on the final exam.\n",
        "\n",
        "2. If you complete your homework, then you will pass the exam.\n",
        "\n",
        "    Inverse: If you did not complete your homework, then you will not pass the exam.\\\n",
        "    Converse: If you passed the exam, then you did completed your homework. \\\n",
        "    Contrapositive: If you did not pass the exam, then you did not do your homework.\n",
        "\n",
        "3. If you do not study, then you will not pass the exam.\n",
        "\n",
        "    Inverse: If you study, then you will pass the exam. \\\n",
        "    Converse: If you did not pass the exam, then you did not study. \\\n",
        "    Contrapositive: If you passed the exam, then you did study.\n",
        "\n",
        "4. If you are 46\" tall, then you can ride the rollercoaster.\n",
        "\n",
        "    Inverse: If you are not 46\" tall, then you can not ride the rollercoaster. \\\n",
        "    Converse: If you can ride the rollercoaster, then you are 46\" tall. \\\n",
        "    Contrapositive: If you can not ride the rollercoaster, then you are not 46\" tall.\n"
      ]
    }
  ],
  "metadata": {
    "colab": {
      "collapsed_sections": [
        "HCjgnJwTbbhN"
      ],
      "name": "cse280-homework-01.ipynb",
      "provenance": [],
      "toc_visible": true
    },
    "kernelspec": {
      "display_name": "Python 3.9.0 ('.env': venv)",
      "language": "python",
      "name": "python3"
    },
    "language_info": {
      "codemirror_mode": {
        "name": "ipython",
        "version": 3
      },
      "file_extension": ".py",
      "mimetype": "text/x-python",
      "name": "python",
      "nbconvert_exporter": "python",
      "pygments_lexer": "ipython3",
      "version": "3.9.0"
    },
    "vscode": {
      "interpreter": {
        "hash": "1977c1262a5a71e57f8e1e2a9337f4268800bf2d1a595fc1ecb322ccb8b2351d"
      }
    }
  },
  "nbformat": 4,
  "nbformat_minor": 0
}